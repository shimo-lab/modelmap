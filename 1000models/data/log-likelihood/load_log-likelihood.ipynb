{
 "cells": [
  {
   "cell_type": "code",
   "execution_count": 1,
   "metadata": {},
   "outputs": [],
   "source": [
    "import pickle"
   ]
  },
  {
   "cell_type": "code",
   "execution_count": 2,
   "metadata": {},
   "outputs": [],
   "source": [
    "dict_log_likelihood = pickle.load(open(\"log-likelihood_1018.pkl\", \"rb\"))"
   ]
  },
  {
   "cell_type": "code",
   "execution_count": 3,
   "metadata": {},
   "outputs": [
    {
     "name": "stdout",
     "output_type": "stream",
     "text": [
      "Number of models: 1018\n",
      "Vector size: 10000\n",
      "Log-likelihood vector: [-626.65048254 -437.79926527 -519.74895704 ... -432.20114279 -747.06967819\n",
      " -525.0877068 ]\n"
     ]
    }
   ],
   "source": [
    "print(f\"Number of models: {len(dict_log_likelihood)}\")\n",
    "print(f\"Vector size: {len(dict_log_likelihood['meta-llama/Llama-2-7b-hf'])}\")\n",
    "print(f\"Log-likelihood vector: {dict_log_likelihood['meta-llama/Llama-2-7b-hf']}\")"
   ]
  }
 ],
 "metadata": {
  "kernelspec": {
   "display_name": "jikken310",
   "language": "python",
   "name": "python3"
  },
  "language_info": {
   "codemirror_mode": {
    "name": "ipython",
    "version": 3
   },
   "file_extension": ".py",
   "mimetype": "text/x-python",
   "name": "python",
   "nbconvert_exporter": "python",
   "pygments_lexer": "ipython3",
   "version": "3.10.14"
  }
 },
 "nbformat": 4,
 "nbformat_minor": 2
}
