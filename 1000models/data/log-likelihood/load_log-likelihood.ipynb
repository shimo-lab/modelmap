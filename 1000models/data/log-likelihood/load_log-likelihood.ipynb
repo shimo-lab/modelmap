{
 "cells": [
  {
   "cell_type": "code",
   "execution_count": 1,
   "metadata": {},
   "outputs": [],
   "source": [
    "import pickle\n",
    "import numpy as np"
   ]
  },
  {
   "cell_type": "code",
   "execution_count": 2,
   "metadata": {},
   "outputs": [],
   "source": [
    "raw_log_likelihood = pickle.load(open(\"raw_log-likelihood_1018.pkl\", \"rb\"))\n",
    "clipped_log_likelihood = pickle.load(open(\"clipped_log-likelihood_1018.pkl\", \"rb\"))"
   ]
  },
  {
   "cell_type": "code",
   "execution_count": 3,
   "metadata": {},
   "outputs": [
    {
     "name": "stdout",
     "output_type": "stream",
     "text": [
      "Number of models: 1018\n",
      "Matrix L shape: (1018, 10000)\n",
      "Minimum value in Matrix L: -20503.7119140625\n",
      "Maximum value in Matrix L: -0.007867919746786356\n",
      "2 percentile value in Matrix L: -1412.3424912643432\n"
     ]
    }
   ],
   "source": [
    "print(f\"Number of models: {len(raw_log_likelihood)}\")\n",
    "matrix_L = np.array([raw_log_likelihood[model] for model in raw_log_likelihood])\n",
    "print(f\"Matrix L shape: {matrix_L.shape}\")\n",
    "print(f\"Minimum value in Matrix L: {np.min(matrix_L)}\")\n",
    "print(f\"Maximum value in Matrix L: {np.max(matrix_L)}\")\n",
    "print(f\"2 percentile value in Matrix L: {np.percentile(matrix_L, 2)}\")"
   ]
  },
  {
   "cell_type": "code",
   "execution_count": 4,
   "metadata": {},
   "outputs": [
    {
     "name": "stdout",
     "output_type": "stream",
     "text": [
      "Number of models: 1018\n",
      "Matrix L clipped shape: (1018, 10000)\n",
      "Minimum value in Matrix L clipped: -1412.3424912643432\n",
      "Maximum value in Matrix L clipped: -0.007867919746786356\n"
     ]
    }
   ],
   "source": [
    "print(f\"Number of models: {len(clipped_log_likelihood)}\")\n",
    "matrix_L_clipped = np.array([clipped_log_likelihood[model] for model in clipped_log_likelihood])\n",
    "print(f\"Matrix L clipped shape: {matrix_L_clipped.shape}\")\n",
    "print(f\"Minimum value in Matrix L clipped: {np.min(matrix_L_clipped)}\")\n",
    "print(f\"Maximum value in Matrix L clipped: {np.max(matrix_L_clipped)}\")"
   ]
  },
  {
   "cell_type": "code",
   "execution_count": null,
   "metadata": {},
   "outputs": [],
   "source": []
  }
 ],
 "metadata": {
  "kernelspec": {
   "display_name": "jikken310",
   "language": "python",
   "name": "python3"
  },
  "language_info": {
   "codemirror_mode": {
    "name": "ipython",
    "version": 3
   },
   "file_extension": ".py",
   "mimetype": "text/x-python",
   "name": "python",
   "nbconvert_exporter": "python",
   "pygments_lexer": "ipython3",
   "version": "3.10.14"
  }
 },
 "nbformat": 4,
 "nbformat_minor": 2
}
