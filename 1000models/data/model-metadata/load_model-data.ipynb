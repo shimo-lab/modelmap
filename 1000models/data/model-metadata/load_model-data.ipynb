{
 "cells": [
  {
   "cell_type": "markdown",
   "metadata": {},
   "source": [
    "# Data of 1018 models\n",
    "\n",
    "- 'model_name'\n",
    "- 'model_type'\n",
    "- 'model_size'\n",
    "- 'created_at'\n",
    "- 'downloads'\n",
    "- 'log-likelihood-10k'\n",
    "- 'mean_logp'\n",
    "- 'score_v1_ARC'\n",
    "- 'score_v1_HellaSwag'\n",
    "- 'score_v1_MMLU'\n",
    "- 'score_v1_TruthfulQA'\n",
    "- 'score_v1_Winogrande'\n",
    "- 'score_v1_GSM8K'"
   ]
  },
  {
   "cell_type": "code",
   "execution_count": 1,
   "metadata": {},
   "outputs": [],
   "source": [
    "import pickle\n",
    "modeldata_1018 = pickle.load(open('./model-data-1018.pkl', 'rb'))"
   ]
  },
  {
   "cell_type": "code",
   "execution_count": 2,
   "metadata": {},
   "outputs": [
    {
     "name": "stdout",
     "output_type": "stream",
     "text": [
      "modeldata_1018: <class 'list'>\n",
      "modeldata_1018[0]: <class 'dict'>\n"
     ]
    }
   ],
   "source": [
    "print(f\"modeldata_1018: {type(modeldata_1018)}\")\n",
    "print(f\"modeldata_1018[0]: {type(modeldata_1018[0])}\")"
   ]
  },
  {
   "cell_type": "code",
   "execution_count": 3,
   "metadata": {},
   "outputs": [
    {
     "data": {
      "text/plain": [
       "{'model_name': 'aaditya/Llama3-OpenBioLLM-8B',\n",
       " 'model_type': 'llama-3',\n",
       " 'model_size': 8,\n",
       " 'created_at': '2024-04-20T00:53:57+00:00',\n",
       " 'downloads': 9308,\n",
       " 'tags': ['transformers',\n",
       "  'pytorch',\n",
       "  'llama',\n",
       "  'text-generation',\n",
       "  'llama-3',\n",
       "  'Mixtral',\n",
       "  'instruct',\n",
       "  'finetune',\n",
       "  'chatml',\n",
       "  'DPO',\n",
       "  'RLHF',\n",
       "  'gpt4',\n",
       "  'distillation',\n",
       "  'en',\n",
       "  'arxiv:2305.18290',\n",
       "  'arxiv:2303.13375',\n",
       "  'arxiv:2212.13138',\n",
       "  'arxiv:2305.09617',\n",
       "  'arxiv:2402.07023',\n",
       "  'base_model:meta-llama/Meta-Llama-3-8B',\n",
       "  'base_model:finetune:meta-llama/Meta-Llama-3-8B',\n",
       "  'license:llama3',\n",
       "  'autotrain_compatible',\n",
       "  'text-generation-inference',\n",
       "  'endpoints_compatible',\n",
       "  'region:us'],\n",
       " 'log-likelihood-10k': array([-684.61989939, -491.31060338, -591.37656593, ..., -475.30440438,\n",
       "        -849.30515099, -584.56910634]),\n",
       " 'mean_logp': -590.1384971457811,\n",
       " 'score_v1_ARC': 58.617747440273035,\n",
       " 'score_v1_HellaSwag': 80.7608046205935,\n",
       " 'score_v1_MMLU': 64.39660018111104,\n",
       " 'score_v1_TruthfulQA': 39.56625649180129,\n",
       " 'score_v1_Winogrande': 70.87608524072613,\n",
       " 'score_v1_GSM8K': 10.159211523881728,\n",
       " 'score_v1_6-taskmean': 54.062784249731116}"
      ]
     },
     "metadata": {},
     "output_type": "display_data"
    }
   ],
   "source": [
    "display(modeldata_1018[0])"
   ]
  },
  {
   "cell_type": "code",
   "execution_count": null,
   "metadata": {},
   "outputs": [],
   "source": []
  }
 ],
 "metadata": {
  "kernelspec": {
   "display_name": ".venv-mm",
   "language": "python",
   "name": "python3"
  },
  "language_info": {
   "codemirror_mode": {
    "name": "ipython",
    "version": 3
   },
   "file_extension": ".py",
   "mimetype": "text/x-python",
   "name": "python",
   "nbconvert_exporter": "python",
   "pygments_lexer": "ipython3",
   "version": "3.10.14"
  }
 },
 "nbformat": 4,
 "nbformat_minor": 2
}
