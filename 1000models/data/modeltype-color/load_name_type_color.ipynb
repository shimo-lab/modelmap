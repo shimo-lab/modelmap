{
 "cells": [
  {
   "cell_type": "markdown",
   "metadata": {},
   "source": [
    "# Model Colors Used in Figure.1"
   ]
  },
  {
   "cell_type": "code",
   "execution_count": 1,
   "metadata": {},
   "outputs": [],
   "source": [
    "import pickle"
   ]
  },
  {
   "cell_type": "code",
   "execution_count": 2,
   "metadata": {},
   "outputs": [
    {
     "name": "stdout",
     "output_type": "stream",
     "text": [
      "Data structure: (model_name, modeltype_fig1, color, modeltype_table7)\n",
      "Number of data points: 1018\n",
      "Example: ('meta-llama/Llama-2-7b-hf', 'llama-2', (1.0, 0.4980392156862745, 0.054901960784313725, 1.0), 'llama-2')\n"
     ]
    }
   ],
   "source": [
    "data_dict = pickle.load(open(\"name_type_color_1018.pkl\", \"rb\"))\n",
    "print(f\"Data structure: {data_dict['data_info']}\")\n",
    "print(f\"Number of data points: {len(data_dict['data'])}\")\n",
    "print(f\"Example: {data_dict['data'][800]}\")"
   ]
  }
 ],
 "metadata": {
  "kernelspec": {
   "display_name": ".venv-mm",
   "language": "python",
   "name": "python3"
  },
  "language_info": {
   "codemirror_mode": {
    "name": "ipython",
    "version": 3
   },
   "file_extension": ".py",
   "mimetype": "text/x-python",
   "name": "python",
   "nbconvert_exporter": "python",
   "pygments_lexer": "ipython3",
   "version": "3.10.14"
  }
 },
 "nbformat": 4,
 "nbformat_minor": 2
}
