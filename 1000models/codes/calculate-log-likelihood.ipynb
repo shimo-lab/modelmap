{
 "cells": [
  {
   "cell_type": "markdown",
   "metadata": {},
   "source": [
    "# Calculate Log Likelihood"
   ]
  },
  {
   "cell_type": "code",
   "execution_count": null,
   "metadata": {},
   "outputs": [],
   "source": [
    "import torch\n",
    "from src import RunnerLikelihood"
   ]
  },
  {
   "cell_type": "code",
   "execution_count": null,
   "metadata": {},
   "outputs": [],
   "source": [
    "runner = RunnerLikelihood(\n",
    "    textdata_name = \"texts-10k-pile\",\n",
    "    textindex_list = list(range(0, 10000)),\n",
    "    modelname_list=[\"meta-llama/Llama-2-7b-hf\", \"meta-llama/Meta-Llama-3-8B\"],\n",
    "    trust_remote_code=True,\n",
    "    local_files_only=True,\n",
    "    dtype = torch.float16\n",
    ")"
   ]
  },
  {
   "cell_type": "code",
   "execution_count": null,
   "metadata": {},
   "outputs": [],
   "source": [
    "runner.run()"
   ]
  }
 ],
 "metadata": {
  "kernelspec": {
   "display_name": ".venv-mm-2",
   "language": "python",
   "name": "python3"
  },
  "language_info": {
   "codemirror_mode": {
    "name": "ipython",
    "version": 3
   },
   "file_extension": ".py",
   "mimetype": "text/x-python",
   "name": "python",
   "nbconvert_exporter": "python",
   "pygments_lexer": "ipython3",
   "version": "3.12.3"
  }
 },
 "nbformat": 4,
 "nbformat_minor": 2
}
